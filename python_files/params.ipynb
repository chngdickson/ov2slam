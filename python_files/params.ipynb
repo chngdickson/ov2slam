{
 "cells": [
  {
   "cell_type": "code",
   "execution_count": 2,
   "metadata": {},
   "outputs": [],
   "source": [
    "import numpy as np"
   ]
  },
  {
   "cell_type": "code",
   "execution_count": 4,
   "metadata": {},
   "outputs": [
    {
     "name": "stdout",
     "output_type": "stream",
     "text": [
      "[[457.00736216   0.         320.        ]\n",
      " [  0.         457.00736216 240.        ]\n",
      " [  0.           0.           1.        ]]\n"
     ]
    }
   ],
   "source": [
    "K = [\n",
    "    [457.0073621574767, 0.0, 320.0], \n",
    "    [0.0, 457.0073621574767, 240.0], \n",
    "    [0.0, 0.0, 1.0]\n",
    "    ]\n",
    "K = np.array(K)\n",
    "print(K)"
   ]
  },
  {
   "cell_type": "markdown",
   "metadata": {},
   "source": [
    "#     [fx  0 cx]\n",
    "# K = [ 0 fy cy]\n",
    "#     [ 0  0  1]"
   ]
  },
  {
   "cell_type": "code",
   "execution_count": 8,
   "metadata": {},
   "outputs": [
    {
     "name": "stdout",
     "output_type": "stream",
     "text": [
      "457.0073621574767 320.0 457.0073621574767 240.0\n"
     ]
    }
   ],
   "source": [
    "fx, cx = K[0,0], K[0,2]\n",
    "fy, cy = K[1,1], K[1,2]\n",
    "\n",
    "print(fx,cx,fy,cy)"
   ]
  }
 ],
 "metadata": {
  "kernelspec": {
   "display_name": "py38",
   "language": "python",
   "name": "python3"
  },
  "language_info": {
   "codemirror_mode": {
    "name": "ipython",
    "version": 3
   },
   "file_extension": ".py",
   "mimetype": "text/x-python",
   "name": "python",
   "nbconvert_exporter": "python",
   "pygments_lexer": "ipython3",
   "version": "3.8.19"
  }
 },
 "nbformat": 4,
 "nbformat_minor": 2
}
