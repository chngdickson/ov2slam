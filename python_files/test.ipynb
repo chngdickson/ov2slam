{
 "cells": [
  {
   "cell_type": "code",
   "execution_count": 4,
   "metadata": {},
   "outputs": [],
   "source": [
    "import numpy as np\n",
    "from scipy.spatial.transform import Rotation as R\n",
    "import open3d"
   ]
  },
  {
   "cell_type": "code",
   "execution_count": 5,
   "metadata": {},
   "outputs": [],
   "source": [
    "def txt2arr(file_dir):\n",
    "    list_of_data = []\n",
    "    f = open(file_dir,\"r\")\n",
    "    data = f.read()\n",
    "    for line in data.splitlines():\n",
    "    \tlist_of_data.append(line.split()[1:])\n",
    "    return np.array(list_of_data, dtype=np.float32)\n",
    "\n",
    "def xyzQuat_2_Ext(arr):\n",
    "    # Format x,y,z,qx,qy,qz,qw\n",
    "    assert len(arr) == 7\n",
    "    Ext = np.eye(4)\n",
    "    Ext[:3,:3] = R.from_quat(arr[-4:]).as_matrix()\n",
    "    Ext[:3,3] = arr[:3]\n",
    "    return Ext\n",
    "\n",
    "def add_geometryin_viz(viz, arr, intrins, color):\n",
    "    for a1 in arr:\n",
    "        ext1 = xyzQuat_2_Ext(a1)\n",
    "        cam1 = open3d.geometry.LineSet.create_camera_visualization(view_width_px=200, view_height_px=200, intrinsic=intrins,extrinsic=ext1)\n",
    "        cam1.paint_uniform_color(color)\n",
    "        viz.add_geometry(cam1)\n",
    "    return viz\n",
    "\n",
    "\n",
    "arr1 = txt2arr(\"../ov2slam_fullba_kfs_traj.txt\")\n",
    "arr2 = txt2arr(\"../ov2slam_traj.txt\")\n"
   ]
  },
  {
   "cell_type": "code",
   "execution_count": null,
   "metadata": {},
   "outputs": [],
   "source": [
    "# Step 0 - Init\n",
    "WIDTH = 800\n",
    "HEIGHT = 800\n",
    "RED =  np.array([1.0,0.0,0.0])\n",
    "BLUE = np.array([0.0,0.0,1.0])\n",
    "\n",
    "# Step 2 - Create visualizer object\n",
    "viz = open3d.visualization.Visualizer()\n",
    "viz.create_window(width=WIDTH, height=HEIGHT)\n",
    "cam_obj     = viz.get_view_control().convert_to_pinhole_camera_parameters()\n",
    "intrins = cam_obj.intrinsic.intrinsic_matrix\n",
    "\n",
    "viz.create_window(width=480, height=640)\n",
    "\n",
    "# Step 4 - Get camera lines\n",
    "viz = add_geometryin_viz(viz, arr1, intrins, RED)\n",
    "viz = add_geometryin_viz(viz, arr2, intrins, BLUE)\n",
    "\n",
    "# for a1 in arr1:\n",
    "# \text1= xyzQuat_2_Ext(a1)\n",
    "# \tcam1 = open3d.geometry.LineSet.create_camera_visualization(view_width_px=200, view_height_px=200, intrinsic=intrins,extrinsic=ext1)\n",
    "# \tcam1.paint_uniform_color(np.array([0.0,0.0,1.0]))\n",
    "# \tviz.add_geometry(cam1)\n",
    "\t# viz.poll_events()\n",
    "\t# ctr = viz.get_view_control()\n",
    "\t# ctr.change_field_of_view(step=0.9)\n",
    "\t# ctr.rotate(0,180.0)\n",
    "\n",
    "\t# viz.update_renderer()\n",
    "viz.run()\n",
    "# viz.destroy_window()\n"
   ]
  }
 ],
 "metadata": {
  "kernelspec": {
   "display_name": "py38",
   "language": "python",
   "name": "python3"
  },
  "language_info": {
   "codemirror_mode": {
    "name": "ipython",
    "version": 3
   },
   "file_extension": ".py",
   "mimetype": "text/x-python",
   "name": "python",
   "nbconvert_exporter": "python",
   "pygments_lexer": "ipython3",
   "version": "3.8.19"
  }
 },
 "nbformat": 4,
 "nbformat_minor": 2
}
