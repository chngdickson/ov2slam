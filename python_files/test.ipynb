{
 "cells": [
  {
   "cell_type": "code",
   "execution_count": 1,
   "metadata": {},
   "outputs": [
    {
     "name": "stdout",
     "output_type": "stream",
     "text": [
      "Jupyter environment detected. Enabling Open3D WebVisualizer.\n",
      "[Open3D INFO] WebRTC GUI backend enabled.\n",
      "[Open3D INFO] WebRTCWindowSystem: HTTP handshake server disabled.\n"
     ]
    }
   ],
   "source": [
    "import numpy as np\n",
    "from scipy.spatial.transform import Rotation as R\n",
    "import open3d"
   ]
  },
  {
   "cell_type": "code",
   "execution_count": 2,
   "metadata": {},
   "outputs": [
    {
     "ename": "FileNotFoundError",
     "evalue": "[Errno 2] No such file or directory: '../ov2slam_fullba_kfs_traj.txt'",
     "output_type": "error",
     "traceback": [
      "\u001b[0;31m---------------------------------------------------------------------------\u001b[0m",
      "\u001b[0;31mFileNotFoundError\u001b[0m                         Traceback (most recent call last)",
      "Cell \u001b[0;32mIn[2], line 26\u001b[0m\n\u001b[1;32m     22\u001b[0m         viz\u001b[38;5;241m.\u001b[39madd_geometry(cam1)\n\u001b[1;32m     23\u001b[0m     \u001b[38;5;28;01mreturn\u001b[39;00m viz\n\u001b[0;32m---> 26\u001b[0m arr1 \u001b[38;5;241m=\u001b[39m \u001b[43mtxt2arr\u001b[49m\u001b[43m(\u001b[49m\u001b[38;5;124;43m\"\u001b[39;49m\u001b[38;5;124;43m../ov2slam_fullba_kfs_traj.txt\u001b[39;49m\u001b[38;5;124;43m\"\u001b[39;49m\u001b[43m)\u001b[49m\n\u001b[1;32m     27\u001b[0m arr2 \u001b[38;5;241m=\u001b[39m txt2arr(\u001b[38;5;124m\"\u001b[39m\u001b[38;5;124m../ov2slam_traj.txt\u001b[39m\u001b[38;5;124m\"\u001b[39m)\n",
      "Cell \u001b[0;32mIn[2], line 3\u001b[0m, in \u001b[0;36mtxt2arr\u001b[0;34m(file_dir)\u001b[0m\n\u001b[1;32m      1\u001b[0m \u001b[38;5;28;01mdef\u001b[39;00m \u001b[38;5;21mtxt2arr\u001b[39m(file_dir):\n\u001b[1;32m      2\u001b[0m     list_of_data \u001b[38;5;241m=\u001b[39m []\n\u001b[0;32m----> 3\u001b[0m     f \u001b[38;5;241m=\u001b[39m \u001b[38;5;28;43mopen\u001b[39;49m\u001b[43m(\u001b[49m\u001b[43mfile_dir\u001b[49m\u001b[43m,\u001b[49m\u001b[38;5;124;43m\"\u001b[39;49m\u001b[38;5;124;43mr\u001b[39;49m\u001b[38;5;124;43m\"\u001b[39;49m\u001b[43m)\u001b[49m\n\u001b[1;32m      4\u001b[0m     data \u001b[38;5;241m=\u001b[39m f\u001b[38;5;241m.\u001b[39mread()\n\u001b[1;32m      5\u001b[0m     \u001b[38;5;28;01mfor\u001b[39;00m line \u001b[38;5;129;01min\u001b[39;00m data\u001b[38;5;241m.\u001b[39msplitlines():\n",
      "File \u001b[0;32m~/anaconda3/envs/py38/lib/python3.8/site-packages/IPython/core/interactiveshell.py:284\u001b[0m, in \u001b[0;36m_modified_open\u001b[0;34m(file, *args, **kwargs)\u001b[0m\n\u001b[1;32m    277\u001b[0m \u001b[38;5;28;01mif\u001b[39;00m file \u001b[38;5;129;01min\u001b[39;00m {\u001b[38;5;241m0\u001b[39m, \u001b[38;5;241m1\u001b[39m, \u001b[38;5;241m2\u001b[39m}:\n\u001b[1;32m    278\u001b[0m     \u001b[38;5;28;01mraise\u001b[39;00m \u001b[38;5;167;01mValueError\u001b[39;00m(\n\u001b[1;32m    279\u001b[0m         \u001b[38;5;124mf\u001b[39m\u001b[38;5;124m\"\u001b[39m\u001b[38;5;124mIPython won\u001b[39m\u001b[38;5;124m'\u001b[39m\u001b[38;5;124mt let you open fd=\u001b[39m\u001b[38;5;132;01m{\u001b[39;00mfile\u001b[38;5;132;01m}\u001b[39;00m\u001b[38;5;124m by default \u001b[39m\u001b[38;5;124m\"\u001b[39m\n\u001b[1;32m    280\u001b[0m         \u001b[38;5;124m\"\u001b[39m\u001b[38;5;124mas it is likely to crash IPython. If you know what you are doing, \u001b[39m\u001b[38;5;124m\"\u001b[39m\n\u001b[1;32m    281\u001b[0m         \u001b[38;5;124m\"\u001b[39m\u001b[38;5;124myou can use builtins\u001b[39m\u001b[38;5;124m'\u001b[39m\u001b[38;5;124m open.\u001b[39m\u001b[38;5;124m\"\u001b[39m\n\u001b[1;32m    282\u001b[0m     )\n\u001b[0;32m--> 284\u001b[0m \u001b[38;5;28;01mreturn\u001b[39;00m \u001b[43mio_open\u001b[49m\u001b[43m(\u001b[49m\u001b[43mfile\u001b[49m\u001b[43m,\u001b[49m\u001b[43m \u001b[49m\u001b[38;5;241;43m*\u001b[39;49m\u001b[43margs\u001b[49m\u001b[43m,\u001b[49m\u001b[43m \u001b[49m\u001b[38;5;241;43m*\u001b[39;49m\u001b[38;5;241;43m*\u001b[39;49m\u001b[43mkwargs\u001b[49m\u001b[43m)\u001b[49m\n",
      "\u001b[0;31mFileNotFoundError\u001b[0m: [Errno 2] No such file or directory: '../ov2slam_fullba_kfs_traj.txt'"
     ]
    }
   ],
   "source": [
    "def txt2arr(file_dir):\n",
    "    list_of_data = []\n",
    "    f = open(file_dir,\"r\")\n",
    "    data = f.read()\n",
    "    for line in data.splitlines():\n",
    "    \tlist_of_data.append(line.split()[1:])\n",
    "    return np.array(list_of_data, dtype=np.float32)\n",
    "\n",
    "def xyzQuat_2_Ext(arr):\n",
    "    # Format x,y,z,qx,qy,qz,qw\n",
    "    assert len(arr) == 7\n",
    "    Ext = np.eye(4)\n",
    "    Ext[:3,:3] = R.from_quat(arr[-4:]).as_matrix()\n",
    "    Ext[:3,3] = arr[:3]\n",
    "    return Ext\n",
    "\n",
    "def add_geometryin_viz(viz, arr, intrins, color):\n",
    "    for a1 in arr:\n",
    "        ext1 = xyzQuat_2_Ext(a1)\n",
    "        cam1 = open3d.geometry.LineSet.create_camera_visualization(view_width_px=200, view_height_px=200, intrinsic=intrins,extrinsic=ext1)\n",
    "        cam1.paint_uniform_color(color)\n",
    "        viz.add_geometry(cam1)\n",
    "    return viz\n",
    "\n",
    "\n",
    "arr1 = txt2arr(\"../ov2slam_fullba_kfs_traj.txt\")\n",
    "arr2 = txt2arr(\"../ov2slam_traj.txt\")\n"
   ]
  },
  {
   "cell_type": "code",
   "execution_count": null,
   "metadata": {},
   "outputs": [],
   "source": [
    "# Step 0 - Init\n",
    "WIDTH = 800\n",
    "HEIGHT = 800\n",
    "RED =  np.array([1.0,0.0,0.0])\n",
    "BLUE = np.array([0.0,0.0,1.0])\n",
    "\n",
    "# Step 2 - Create visualizer object\n",
    "viz = open3d.visualization.Visualizer()\n",
    "viz.create_window(width=WIDTH, height=HEIGHT)\n",
    "cam_obj     = viz.get_view_control().convert_to_pinhole_camera_parameters()\n",
    "intrins = cam_obj.intrinsic.intrinsic_matrix\n",
    "\n",
    "viz.create_window(width=480, height=640)\n",
    "\n",
    "# Step 4 - Get camera lines\n",
    "viz = add_geometryin_viz(viz, arr1, intrins, RED)\n",
    "viz = add_geometryin_viz(viz, arr2, intrins, BLUE)\n",
    "\n",
    "# for a1 in arr1:\n",
    "# \text1= xyzQuat_2_Ext(a1)\n",
    "# \tcam1 = open3d.geometry.LineSet.create_camera_visualization(view_width_px=200, view_height_px=200, intrinsic=intrins,extrinsic=ext1)\n",
    "# \tcam1.paint_uniform_color(np.array([0.0,0.0,1.0]))\n",
    "# \tviz.add_geometry(cam1)\n",
    "\t# viz.poll_events()\n",
    "\t# ctr = viz.get_view_control()\n",
    "\t# ctr.change_field_of_view(step=0.9)\n",
    "\t# ctr.rotate(0,180.0)\n",
    "\n",
    "\t# viz.update_renderer()\n",
    "viz.run()\n",
    "# viz.destroy_window()\n"
   ]
  }
 ],
 "metadata": {
  "kernelspec": {
   "display_name": "py38",
   "language": "python",
   "name": "python3"
  },
  "language_info": {
   "codemirror_mode": {
    "name": "ipython",
    "version": 3
   },
   "file_extension": ".py",
   "mimetype": "text/x-python",
   "name": "python",
   "nbconvert_exporter": "python",
   "pygments_lexer": "ipython3",
   "version": "3.8.19"
  }
 },
 "nbformat": 4,
 "nbformat_minor": 2
}
