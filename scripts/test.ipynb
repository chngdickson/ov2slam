{
 "cells": [
  {
   "cell_type": "code",
   "execution_count": null,
   "metadata": {},
   "outputs": [
    {
     "name": "stdout",
     "output_type": "stream",
     "text": [
      "OrderedDict([('a', 1), ('e', 5), ('d', 4), ('b', 2), ('c', 3)])\n",
      "OrderedDict([('e', 5), ('d', 4), ('b', 2), ('c', 3)])\n"
     ]
    }
   ],
   "source": [
    "from collections import OrderedDict\n",
    "d=OrderedDict()\n",
    "d['a']=1\n",
    "d['e']=5\n",
    "d['d']=4\n",
    "d['b']=2\n",
    "d['c']=3\n",
    "\n",
    "print(d)\n",
    "d.popitem(False)\n",
    "print(d)"
   ]
  },
  {
   "cell_type": "code",
   "execution_count": 4,
   "metadata": {},
   "outputs": [],
   "source": [
    "topic_pose = \"helo\"\n",
    "test = f\"carla/ego_vehicle/rgb_{topic_pose}/image\""
   ]
  },
  {
   "cell_type": "code",
   "execution_count": 114,
   "metadata": {},
   "outputs": [
    {
     "name": "stdout",
     "output_type": "stream",
     "text": [
      "torch.Size([6, 100])\n",
      "torch.Size([6, 100])\n",
      "torch.Size([3, 200])\n",
      "torch.Size([3, 100, 2])\n",
      "x      float32\n",
      "y      float32\n",
      "z      float32\n",
      "rgb     uint32\n",
      "dtype: object\n"
     ]
    },
    {
     "data": {
      "text/plain": [
       "(307200, 3)"
      ]
     },
     "execution_count": 114,
     "metadata": {},
     "output_type": "execute_result"
    }
   ],
   "source": [
    "import numpy as np\n",
    "import torch\n",
    "import pandas as pd\n",
    "\n",
    "arr = torch.ones((3,100))\n",
    "arr2 = torch.ones((3,100))\n",
    "print(torch.stack([arr, arr2], axis=0).reshape(6,-1).shape)\n",
    "print(torch.vstack([arr,arr2]).shape)\n",
    "print(torch.hstack([arr,arr2]).shape)\n",
    "print(torch.dstack([arr,arr2]).shape)\n",
    "from numpy.lib import recfunctions as rfn\n",
    "A = np.ones((5), dtype=np.uint8)\n",
    "B = np.ones((5), dtype=np.float32)\n",
    "C = np.ones((5, 3), dtype=np.uint8)\n",
    "a = list(map(list,zip(A,B,C)))\n",
    "\n",
    "# from sensor_msgs import point_cloud2 \n",
    "\n",
    "BIT_MOVE_16 = 2**16\n",
    "BIT_MOVE_8 = 2**8\n",
    "C = np.ones((2,6))\n",
    "points = C[:,:3]\n",
    "colors = np.floor(np.asarray(C[:,3:])*255) # nx3 matrix\n",
    "colors = colors[:,0] * BIT_MOVE_16 + colors[:,1] * BIT_MOVE_8 + colors[:,2]\n",
    "df = pd.DataFrame({\n",
    "\t\"x\":points[:,0],\n",
    "\t\"y\":points[:,1],\n",
    "\t\"z\":points[:,2],\n",
    "\t\"rgb\":colors\n",
    "})\n",
    "df[\"x\"] = df[\"x\"].astype(\"float32\")\n",
    "df[\"y\"] = df[\"y\"].astype(\"float32\")\n",
    "df[\"z\"] = df[\"z\"].astype(\"float32\")\n",
    "df[\"rgb\"] = df[\"rgb\"].astype(\"uint32\")\n",
    "print(df.dtypes)\n",
    "df.to_records(index=False).tolist()\n",
    "# df.values.tolist()\n",
    "# print(cloud_data.tolist())\n",
    "# print(cloud_data.shape)\n",
    "\n",
    "a = np.ones((307200,3))\n",
    "l, dim = a.shape\n",
    "b = np.ones((l,1))\n",
    "c = np.hstack((a,b))\n",
    "c[:,:3].shape"
   ]
  },
  {
   "cell_type": "code",
   "execution_count": null,
   "metadata": {},
   "outputs": [],
   "source": []
  },
  {
   "cell_type": "code",
   "execution_count": 8,
   "metadata": {},
   "outputs": [
    {
     "ename": "TypeError",
     "evalue": "write_point_cloud(): incompatible function arguments. The following argument types are supported:\n    1. (filename: os.PathLike, pointcloud: open3d.cuda.pybind.geometry.PointCloud, format: str = 'auto', write_ascii: bool = False, compressed: bool = False, print_progress: bool = False) -> bool\n\nInvoked with: '/home/ds1804/bags/cow_eth_data/output2.pcd', TriangleMesh with 5825687 points and 6281718 triangles.; kwargs: format='pcd'",
     "output_type": "error",
     "traceback": [
      "\u001b[0;31m---------------------------------------------------------------------------\u001b[0m",
      "\u001b[0;31mTypeError\u001b[0m                                 Traceback (most recent call last)",
      "Cell \u001b[0;32mIn[8], line 6\u001b[0m\n\u001b[1;32m      3\u001b[0m pcd \u001b[38;5;241m=\u001b[39m o3d\u001b[38;5;241m.\u001b[39mio\u001b[38;5;241m.\u001b[39mread_triangle_mesh(\u001b[38;5;124m\"\u001b[39m\u001b[38;5;124m/home/ds1804/bags/cow_eth_data/output.ply\u001b[39m\u001b[38;5;124m\"\u001b[39m)\n\u001b[1;32m      4\u001b[0m \u001b[38;5;66;03m# o3d.visualization.draw_geometries([pcd],\u001b[39;00m\n\u001b[1;32m      5\u001b[0m \u001b[38;5;66;03m#                                   zoom=0.3412)\u001b[39;00m\n\u001b[0;32m----> 6\u001b[0m \u001b[43mo3d\u001b[49m\u001b[38;5;241;43m.\u001b[39;49m\u001b[43mio\u001b[49m\u001b[38;5;241;43m.\u001b[39;49m\u001b[43mwrite_point_cloud\u001b[49m\u001b[43m(\u001b[49m\u001b[38;5;124;43m\"\u001b[39;49m\u001b[38;5;124;43m/home/ds1804/bags/cow_eth_data/output2.pcd\u001b[39;49m\u001b[38;5;124;43m\"\u001b[39;49m\u001b[43m,\u001b[49m\u001b[43m \u001b[49m\u001b[43mpcd\u001b[49m\u001b[43m,\u001b[49m\u001b[43m \u001b[49m\u001b[38;5;28;43mformat\u001b[39;49m\u001b[38;5;241;43m=\u001b[39;49m\u001b[38;5;124;43m\"\u001b[39;49m\u001b[38;5;124;43mpcd\u001b[39;49m\u001b[38;5;124;43m\"\u001b[39;49m\u001b[43m)\u001b[49m\n",
      "\u001b[0;31mTypeError\u001b[0m: write_point_cloud(): incompatible function arguments. The following argument types are supported:\n    1. (filename: os.PathLike, pointcloud: open3d.cuda.pybind.geometry.PointCloud, format: str = 'auto', write_ascii: bool = False, compressed: bool = False, print_progress: bool = False) -> bool\n\nInvoked with: '/home/ds1804/bags/cow_eth_data/output2.pcd', TriangleMesh with 5825687 points and 6281718 triangles.; kwargs: format='pcd'"
     ]
    }
   ],
   "source": [
    "import open3d as o3d\n",
    "# pcd = o3d.io.read_point_cloud(\"/home/ds1804/bags/cow_eth_data/output.ply\")\n",
    "pcd = o3d.io.read_triangle_mesh(\"/home/ds1804/bags/cow_eth_data/output.ply\")\n",
    "# o3d.visualization.draw_geometries([pcd],\n",
    "#                                   zoom=0.3412)\n",
    "o3d.io.write_point_cloud(\"/home/ds1804/bags/cow_eth_data/output2.pcd\", pcd, format=\"pcd\")"
   ]
  }
 ],
 "metadata": {
  "kernelspec": {
   "display_name": "py38",
   "language": "python",
   "name": "python3"
  },
  "language_info": {
   "codemirror_mode": {
    "name": "ipython",
    "version": 3
   },
   "file_extension": ".py",
   "mimetype": "text/x-python",
   "name": "python",
   "nbconvert_exporter": "python",
   "pygments_lexer": "ipython3",
   "version": "3.8.19"
  }
 },
 "nbformat": 4,
 "nbformat_minor": 2
}
