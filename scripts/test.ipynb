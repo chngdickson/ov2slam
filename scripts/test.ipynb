{
 "cells": [
  {
   "cell_type": "code",
   "execution_count": null,
   "metadata": {},
   "outputs": [
    {
     "name": "stdout",
     "output_type": "stream",
     "text": [
      "OrderedDict([('a', 1), ('e', 5), ('d', 4), ('b', 2), ('c', 3)])\n",
      "OrderedDict([('e', 5), ('d', 4), ('b', 2), ('c', 3)])\n"
     ]
    }
   ],
   "source": [
    "from collections import OrderedDict\n",
    "d=OrderedDict()\n",
    "d['a']=1\n",
    "d['e']=5\n",
    "d['d']=4\n",
    "d['b']=2\n",
    "d['c']=3\n",
    "\n",
    "print(d)\n",
    "d.popitem(False)\n",
    "print(d)"
   ]
  },
  {
   "cell_type": "code",
   "execution_count": 4,
   "metadata": {},
   "outputs": [],
   "source": [
    "topic_pose = \"helo\"\n",
    "test = f\"carla/ego_vehicle/rgb_{topic_pose}/image\""
   ]
  },
  {
   "cell_type": "code",
   "execution_count": null,
   "metadata": {},
   "outputs": [
    {
     "name": "stdout",
     "output_type": "stream",
     "text": [
      "torch.Size([6, 100])\n",
      "torch.Size([6, 100])\n",
      "torch.Size([3, 200])\n",
      "torch.Size([3, 100, 2])\n"
     ]
    },
    {
     "ename": "AttributeError",
     "evalue": "recarray has no attribute int",
     "output_type": "error",
     "traceback": [
      "\u001b[0;31m---------------------------------------------------------------------------\u001b[0m",
      "\u001b[0;31mKeyError\u001b[0m                                  Traceback (most recent call last)",
      "File \u001b[0;32m~/anaconda3/envs/py38/lib/python3.8/site-packages/numpy/core/records.py:453\u001b[0m, in \u001b[0;36mrecarray.__getattribute__\u001b[0;34m(self, attr)\u001b[0m\n\u001b[1;32m    452\u001b[0m \u001b[38;5;28;01mtry\u001b[39;00m:\n\u001b[0;32m--> 453\u001b[0m     res \u001b[38;5;241m=\u001b[39m \u001b[43mfielddict\u001b[49m\u001b[43m[\u001b[49m\u001b[43mattr\u001b[49m\u001b[43m]\u001b[49m[:\u001b[38;5;241m2\u001b[39m]\n\u001b[1;32m    454\u001b[0m \u001b[38;5;28;01mexcept\u001b[39;00m (\u001b[38;5;167;01mTypeError\u001b[39;00m, \u001b[38;5;167;01mKeyError\u001b[39;00m) \u001b[38;5;28;01mas\u001b[39;00m e:\n",
      "\u001b[0;31mKeyError\u001b[0m: 'int'",
      "\nThe above exception was the direct cause of the following exception:\n",
      "\u001b[0;31mAttributeError\u001b[0m                            Traceback (most recent call last)",
      "Cell \u001b[0;32mIn[16], line 12\u001b[0m\n\u001b[1;32m     10\u001b[0m A \u001b[38;5;241m=\u001b[39m np\u001b[38;5;241m.\u001b[39mones((\u001b[38;5;241m100\u001b[39m), dtype\u001b[38;5;241m=\u001b[39mnp\u001b[38;5;241m.\u001b[39muint8)\n\u001b[1;32m     11\u001b[0m B \u001b[38;5;241m=\u001b[39m np\u001b[38;5;241m.\u001b[39mones((\u001b[38;5;241m100\u001b[39m), dtype\u001b[38;5;241m=\u001b[39mnp\u001b[38;5;241m.\u001b[39mfloat32)\n\u001b[0;32m---> 12\u001b[0m out \u001b[38;5;241m=\u001b[39m \u001b[43mnp\u001b[49m\u001b[38;5;241;43m.\u001b[39;49m\u001b[43mrec\u001b[49m\u001b[38;5;241;43m.\u001b[39;49m\u001b[43mfromarrays\u001b[49m\u001b[43m(\u001b[49m\u001b[43m(\u001b[49m\u001b[43mA\u001b[49m\u001b[43m,\u001b[49m\u001b[43m \u001b[49m\u001b[43mB\u001b[49m\u001b[43m,\u001b[49m\u001b[43m \u001b[49m\u001b[43mB\u001b[49m\u001b[43m)\u001b[49m\u001b[43m)\u001b[49m\u001b[38;5;241;43m.\u001b[39;49m\u001b[43mint\u001b[49m()\n\u001b[1;32m     13\u001b[0m out\u001b[38;5;241m.\u001b[39mtolist()\n\u001b[1;32m     14\u001b[0m \u001b[38;5;66;03m# print(b.shape)\u001b[39;00m\n",
      "File \u001b[0;32m~/anaconda3/envs/py38/lib/python3.8/site-packages/numpy/core/records.py:455\u001b[0m, in \u001b[0;36mrecarray.__getattribute__\u001b[0;34m(self, attr)\u001b[0m\n\u001b[1;32m    453\u001b[0m     res \u001b[38;5;241m=\u001b[39m fielddict[attr][:\u001b[38;5;241m2\u001b[39m]\n\u001b[1;32m    454\u001b[0m \u001b[38;5;28;01mexcept\u001b[39;00m (\u001b[38;5;167;01mTypeError\u001b[39;00m, \u001b[38;5;167;01mKeyError\u001b[39;00m) \u001b[38;5;28;01mas\u001b[39;00m e:\n\u001b[0;32m--> 455\u001b[0m     \u001b[38;5;28;01mraise\u001b[39;00m \u001b[38;5;167;01mAttributeError\u001b[39;00m(\u001b[38;5;124m\"\u001b[39m\u001b[38;5;124mrecarray has no attribute \u001b[39m\u001b[38;5;132;01m%s\u001b[39;00m\u001b[38;5;124m\"\u001b[39m \u001b[38;5;241m%\u001b[39m attr) \u001b[38;5;28;01mfrom\u001b[39;00m \u001b[38;5;21;01me\u001b[39;00m\n\u001b[1;32m    456\u001b[0m obj \u001b[38;5;241m=\u001b[39m \u001b[38;5;28mself\u001b[39m\u001b[38;5;241m.\u001b[39mgetfield(\u001b[38;5;241m*\u001b[39mres)\n\u001b[1;32m    458\u001b[0m \u001b[38;5;66;03m# At this point obj will always be a recarray, since (see\u001b[39;00m\n\u001b[1;32m    459\u001b[0m \u001b[38;5;66;03m# PyArray_GetField) the type of obj is inherited. Next, if obj.dtype is\u001b[39;00m\n\u001b[1;32m    460\u001b[0m \u001b[38;5;66;03m# non-structured, convert it to an ndarray. Then if obj is structured\u001b[39;00m\n\u001b[1;32m    461\u001b[0m \u001b[38;5;66;03m# with void type convert it to the same dtype.type (eg to preserve\u001b[39;00m\n\u001b[1;32m    462\u001b[0m \u001b[38;5;66;03m# numpy.record type if present), since nested structured fields do not\u001b[39;00m\n\u001b[1;32m    463\u001b[0m \u001b[38;5;66;03m# inherit type. Don't do this for non-void structures though.\u001b[39;00m\n",
      "\u001b[0;31mAttributeError\u001b[0m: recarray has no attribute int"
     ]
    }
   ],
   "source": [
    "import numpy as np\n",
    "import torch\n",
    "arr = torch.ones((3,100))\n",
    "arr2 = torch.ones((3,100))\n",
    "print(torch.stack([arr, arr2], axis=0).reshape(6,-1).shape)\n",
    "print(torch.vstack([arr,arr2]).shape)\n",
    "print(torch.hstack([arr,arr2]).shape)\n",
    "print(torch.dstack([arr,arr2]).shape)\n",
    "from numpy.lib import recfunctions as rfn\n",
    "A = np.ones((100), dtype=np.uint8)\n",
    "B = np.ones((100), dtype=np.float32)\n",
    "out = np.rec.fromarrays((A, B, B))\n",
    "out.tolist()\n",
    "# print(b.shape)\n"
   ]
  },
  {
   "cell_type": "code",
   "execution_count": 21,
   "metadata": {},
   "outputs": [],
   "source": [
    "import open3d as o3d\n",
    "\n",
    "pcd = o3d.io.read_point_cloud(\"/home/ds1804/bags/cow_eth_data/output.ply\")\n",
    "o3d.visualization.draw_geometries([pcd],\n",
    "                                  zoom=0.3412)"
   ]
  }
 ],
 "metadata": {
  "kernelspec": {
   "display_name": "py38",
   "language": "python",
   "name": "python3"
  },
  "language_info": {
   "codemirror_mode": {
    "name": "ipython",
    "version": 3
   },
   "file_extension": ".py",
   "mimetype": "text/x-python",
   "name": "python",
   "nbconvert_exporter": "python",
   "pygments_lexer": "ipython3",
   "version": "3.8.19"
  }
 },
 "nbformat": 4,
 "nbformat_minor": 2
}
