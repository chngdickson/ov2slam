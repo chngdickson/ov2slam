{
 "cells": [
  {
   "cell_type": "code",
   "execution_count": null,
   "metadata": {},
   "outputs": [
    {
     "name": "stdout",
     "output_type": "stream",
     "text": [
      "OrderedDict([('a', 1), ('e', 5), ('d', 4), ('b', 2), ('c', 3)])\n",
      "OrderedDict([('e', 5), ('d', 4), ('b', 2), ('c', 3)])\n"
     ]
    }
   ],
   "source": [
    "from collections import OrderedDict\n",
    "d=OrderedDict()\n",
    "d['a']=1\n",
    "d['e']=5\n",
    "d['d']=4\n",
    "d['b']=2\n",
    "d['c']=3\n",
    "\n",
    "print(d)\n",
    "d.popitem(False)\n",
    "print(d)"
   ]
  },
  {
   "cell_type": "code",
   "execution_count": 4,
   "metadata": {},
   "outputs": [],
   "source": [
    "topic_pose = \"helo\"\n",
    "test = f\"carla/ego_vehicle/rgb_{topic_pose}/image\""
   ]
  },
  {
   "cell_type": "code",
   "execution_count": 11,
   "metadata": {},
   "outputs": [
    {
     "name": "stdout",
     "output_type": "stream",
     "text": [
      "torch.Size([6, 100])\n",
      "torch.Size([6, 100])\n",
      "torch.Size([3, 200])\n",
      "torch.Size([3, 100, 2])\n"
     ]
    }
   ],
   "source": [
    "import numpy as np\n",
    "import torch\n",
    "arr = torch.ones((3,100))\n",
    "arr2 = torch.ones((3,100))\n",
    "print(torch.stack([arr, arr2], axis=0).reshape(6,-1).shape)\n",
    "print(torch.vstack([arr,arr2]).shape)\n",
    "print(torch.hstack([arr,arr2]).shape)\n",
    "print(torch.dstack([arr,arr2]).shape)\n"
   ]
  },
  {
   "cell_type": "code",
   "execution_count": null,
   "metadata": {},
   "outputs": [],
   "source": [
    "import open3d as o3d\n",
    "\n",
    "pcd = o3d.io.read_point_cloud(\"/home/ds1804/bags/cow_eth_data/output.ply\")\n",
    "o3d.visualization.draw_geometries([pcd],\n",
    "                                  zoom=0.3412)"
   ]
  }
 ],
 "metadata": {
  "kernelspec": {
   "display_name": "py38",
   "language": "python",
   "name": "python3"
  },
  "language_info": {
   "codemirror_mode": {
    "name": "ipython",
    "version": 3
   },
   "file_extension": ".py",
   "mimetype": "text/x-python",
   "name": "python",
   "nbconvert_exporter": "python",
   "pygments_lexer": "ipython3",
   "version": "3.8.19"
  }
 },
 "nbformat": 4,
 "nbformat_minor": 2
}
